{
 "cells": [
  {
   "cell_type": "code",
   "execution_count": 23,
   "metadata": {},
   "outputs": [],
   "source": [
    "from IPython.display import clear_output\n",
    "from time import sleep\n",
    "\n",
    "def print_frames(frames):\n",
    "    for i, frame in enumerate(frames):\n",
    "        clear_output(wait=True)\n",
    "        print(frame['frame'])\n",
    "        print(f\"Timestep: {i + 1}\")\n",
    "        print(f\"State: {frame['state']}\")\n",
    "        print(f\"Action: {frame['action']}\")      \n",
    "        print(f\"Reward: {frame['reward']}\")\n",
    "        sleep(.1)\n",
    "\n",
    "print_frames(frames)"
   ]
  },
  {
   "cell_type": "code",
   "execution_count": 27,
   "metadata": {},
   "outputs": [
    {
     "name": "stdout",
     "output_type": "stream",
     "text": [
      "episode 10000 complete\n",
      "[[6.30575985e-01 6.63503203e-01 6.60829274e-01 6.61261260e-01]\n",
      " [1.25177427e-01 5.35183708e-01 5.94037235e-01 6.74649031e-01]\n",
      " [6.98955817e-01 6.25263238e-01 7.30143696e-01 6.05568236e-01]\n",
      " [9.84614639e-02 5.82533775e-01 1.14326940e-01 5.85477673e-01]\n",
      " [5.99072760e-01 6.01926206e-01 5.65440921e-01 5.64110654e-01]\n",
      " [0.00000000e+00 0.00000000e+00 0.00000000e+00 0.00000000e+00]\n",
      " [7.33474318e-01 1.89064234e-04 7.66485219e-01 6.93710720e-01]\n",
      " [0.00000000e+00 0.00000000e+00 0.00000000e+00 0.00000000e+00]\n",
      " [6.59259327e-01 6.09837872e-01 5.89354293e-01 7.03762629e-01]\n",
      " [2.61200125e-02 7.25014500e-01 7.77699866e-01 1.43389941e-01]\n",
      " [8.10833858e-01 7.49051642e-01 7.62704948e-01 7.62986104e-01]\n",
      " [0.00000000e+00 0.00000000e+00 0.00000000e+00 0.00000000e+00]\n",
      " [0.00000000e+00 0.00000000e+00 0.00000000e+00 0.00000000e+00]\n",
      " [1.54072615e-01 9.05746780e-01 7.80279087e-01 8.20951448e-01]\n",
      " [8.86674965e-01 9.47579227e-01 7.89202813e-01 8.29219325e-01]\n",
      " [0.00000000e+00 0.00000000e+00 0.00000000e+00 0.00000000e+00]]\n"
     ]
    }
   ],
   "source": [
    "import gym\n",
    "import numpy as np\n",
    "import random\n",
    "import time\n",
    "\n",
    "env = gym.make(\"FrozenLake-v0\")\n",
    "frames = []\n",
    "\n",
    "'''Learning the frozen lake'''\n",
    "\n",
    "epsilon = .9\n",
    "total_episodes = 10001\n",
    "max_steps = 100\n",
    "\n",
    "lr_rate = 0.81\n",
    "gamma = .96\n",
    "\n",
    "Q = np.zeros([env.observation_space.n, env.action_space.n])\n",
    "\n",
    "def choose_action(state, learning):\n",
    "    action = 0\n",
    "    if learning and random.uniform(0,1) < epsilon:\n",
    "        action = env.action_space.sample()\n",
    "    else:\n",
    "        action = np.argmax(Q[state])\n",
    "    return action\n",
    "\n",
    "def learn(state, next_state, reward, action):\n",
    "    predict = Q[state, action]\n",
    "    target = reward + gamma * np.max(Q[next_state])\n",
    "    Q[state, action] = Q[state, action] + lr_rate * (target - predict)\n",
    "    \n",
    "for episode in range(total_episodes):\n",
    "    state = env.reset()\n",
    "    t = 0\n",
    "    done = False\n",
    "    \n",
    "    while not done:\n",
    "        action = choose_action(state, True)\n",
    "        state2, reward, done, info = env.step(action)\n",
    "        \n",
    "        learn(state, state2, reward, action)\n",
    "        state = state2\n",
    "        t+=1\n",
    "        \n",
    "    if episode % 100 == 0:\n",
    "        clear_output(wait=True)\n",
    "        print(f\"episode {episode} complete\")\n",
    "print(Q)"
   ]
  },
  {
   "cell_type": "code",
   "execution_count": 30,
   "metadata": {},
   "outputs": [
    {
     "name": "stdout",
     "output_type": "stream",
     "text": [
      "  (Right)\n",
      "SFFF\n",
      "F\u001b[41mH\u001b[0mFH\n",
      "FFFH\n",
      "HFFG\n",
      "\n",
      "Timestep: 11\n",
      "State: 5\n",
      "Action: 2\n",
      "Reward: 0.0\n"
     ]
    }
   ],
   "source": [
    "'''Evaluate the Frozen lake rearning rate'''\n",
    "\n",
    "frames = []\n",
    "\n",
    "state = env.reset()\n",
    "done = False\n",
    "\n",
    "for i in range(10):\n",
    "    done = False\n",
    "    while not done:\n",
    "        action = choose_action(state, False)\n",
    "        state2, reward, done, info = env.step(action)\n",
    "        state = state2\n",
    "        frames.append({\n",
    "            \"frame\": env.render(mode='ansi'),\n",
    "            'state': state,\n",
    "            'action': action,\n",
    "            'reward': reward,\n",
    "        })\n",
    "\n",
    "print_frames(frames)"
   ]
  },
  {
   "cell_type": "code",
   "execution_count": null,
   "metadata": {},
   "outputs": [],
   "source": []
  }
 ],
 "metadata": {
  "kernelspec": {
   "display_name": "Python 3",
   "language": "python",
   "name": "python3"
  },
  "language_info": {
   "codemirror_mode": {
    "name": "ipython",
    "version": 3
   },
   "file_extension": ".py",
   "mimetype": "text/x-python",
   "name": "python",
   "nbconvert_exporter": "python",
   "pygments_lexer": "ipython3",
   "version": "3.6.3"
  }
 },
 "nbformat": 4,
 "nbformat_minor": 2
}
